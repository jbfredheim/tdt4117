{
 "cells": [
  {
   "cell_type": "code",
   "execution_count": 132,
   "id": "955ef37f-d30b-4b39-b40f-cf2827a3563b",
   "metadata": {},
   "outputs": [
    {
     "name": "stdout",
     "output_type": "stream",
     "text": [
      "The autoreload extension is already loaded. To reload it, use:\n",
      "  %reload_ext autoreload\n"
     ]
    }
   ],
   "source": [
    "%load_ext autoreload"
   ]
  },
  {
   "cell_type": "code",
   "execution_count": 133,
   "id": "e913a0ff-a37c-4ad0-87cb-9471962c8685",
   "metadata": {},
   "outputs": [],
   "source": [
    "%autoreload 2\n",
    "import numpy as np\n",
    "import seaborn as sns\n",
    "import pandas as pd\n",
    "import sklearn as sk\n",
    "from sklearn.metrics.pairwise import cosine_similarity, euclidean_distances"
   ]
  },
  {
   "cell_type": "code",
   "execution_count": 134,
   "id": "6497f3ca-e5b0-4856-9434-737b8734b3d5",
   "metadata": {},
   "outputs": [],
   "source": [
    "terms = ['red','blue','dragon','pheonix']\n",
    "documents = {\n",
    "    'd1':[1,1,1,1],\n",
    "    'd2':[0,0,1,0],\n",
    "    'd3':[0,0,1,1],\n",
    "    'd4':[1,2,1,2],\n",
    "    'd5':[1,1,0,0],\n",
    "    'd6':[1,1,1,1],\n",
    "    'd7':[0,3,0,0],\n",
    "    'd8':[1,0,0,1],\n",
    "    'd9':[1,0,0,1],\n",
    "    'd10':[2,1,1,0],\n",
    "}"
   ]
  },
  {
   "cell_type": "code",
   "execution_count": 135,
   "id": "4baa970f-108a-4af4-81da-397fdd0fcfaf",
   "metadata": {},
   "outputs": [],
   "source": [
    "tf = [7,9,6,8]\n",
    "df = [6,6,7,6]\n",
    "idf = np.log10(10/np.array(df))\n",
    "tf_idf = {}"
   ]
  },
  {
   "cell_type": "code",
   "execution_count": 136,
   "id": "a08b3eca-cfef-4705-b720-6f77a3695dc2",
   "metadata": {},
   "outputs": [
    {
     "data": {
      "text/plain": [
       "array([0.22184875, 0.22184875, 0.15490196, 0.22184875])"
      ]
     },
     "execution_count": 136,
     "metadata": {},
     "output_type": "execute_result"
    }
   ],
   "source": [
    "idf"
   ]
  },
  {
   "cell_type": "code",
   "execution_count": 137,
   "id": "979e5399-c2d2-4ddf-85e4-69218270f030",
   "metadata": {},
   "outputs": [],
   "source": [
    "for dkey, document in documents.items():\n",
    "    d = []\n",
    "    for index,value in enumerate(idf):\n",
    "        d.append(document[index]*value)\n",
    "    tf_idf[dkey] = d"
   ]
  },
  {
   "cell_type": "code",
   "execution_count": 138,
   "id": "55c8e261-e9c1-44b9-bb4a-f3fdeb22c452",
   "metadata": {},
   "outputs": [],
   "source": [
    "df = pd.DataFrame(tf_idf.values(), columns=terms)"
   ]
  },
  {
   "cell_type": "code",
   "execution_count": 139,
   "id": "8d779ea4-b6e3-4a41-addd-37067bad0788",
   "metadata": {},
   "outputs": [
    {
     "data": {
      "text/html": [
       "<div>\n",
       "<style scoped>\n",
       "    .dataframe tbody tr th:only-of-type {\n",
       "        vertical-align: middle;\n",
       "    }\n",
       "\n",
       "    .dataframe tbody tr th {\n",
       "        vertical-align: top;\n",
       "    }\n",
       "\n",
       "    .dataframe thead th {\n",
       "        text-align: right;\n",
       "    }\n",
       "</style>\n",
       "<table border=\"1\" class=\"dataframe\">\n",
       "  <thead>\n",
       "    <tr style=\"text-align: right;\">\n",
       "      <th></th>\n",
       "      <th>red</th>\n",
       "      <th>blue</th>\n",
       "      <th>dragon</th>\n",
       "      <th>pheonix</th>\n",
       "    </tr>\n",
       "  </thead>\n",
       "  <tbody>\n",
       "    <tr>\n",
       "      <th>0</th>\n",
       "      <td>0.221849</td>\n",
       "      <td>0.221849</td>\n",
       "      <td>0.154902</td>\n",
       "      <td>0.221849</td>\n",
       "    </tr>\n",
       "    <tr>\n",
       "      <th>1</th>\n",
       "      <td>0.000000</td>\n",
       "      <td>0.000000</td>\n",
       "      <td>0.154902</td>\n",
       "      <td>0.000000</td>\n",
       "    </tr>\n",
       "    <tr>\n",
       "      <th>2</th>\n",
       "      <td>0.000000</td>\n",
       "      <td>0.000000</td>\n",
       "      <td>0.154902</td>\n",
       "      <td>0.221849</td>\n",
       "    </tr>\n",
       "    <tr>\n",
       "      <th>3</th>\n",
       "      <td>0.221849</td>\n",
       "      <td>0.443697</td>\n",
       "      <td>0.154902</td>\n",
       "      <td>0.443697</td>\n",
       "    </tr>\n",
       "    <tr>\n",
       "      <th>4</th>\n",
       "      <td>0.221849</td>\n",
       "      <td>0.221849</td>\n",
       "      <td>0.000000</td>\n",
       "      <td>0.000000</td>\n",
       "    </tr>\n",
       "    <tr>\n",
       "      <th>5</th>\n",
       "      <td>0.221849</td>\n",
       "      <td>0.221849</td>\n",
       "      <td>0.154902</td>\n",
       "      <td>0.221849</td>\n",
       "    </tr>\n",
       "    <tr>\n",
       "      <th>6</th>\n",
       "      <td>0.000000</td>\n",
       "      <td>0.665546</td>\n",
       "      <td>0.000000</td>\n",
       "      <td>0.000000</td>\n",
       "    </tr>\n",
       "    <tr>\n",
       "      <th>7</th>\n",
       "      <td>0.221849</td>\n",
       "      <td>0.000000</td>\n",
       "      <td>0.000000</td>\n",
       "      <td>0.221849</td>\n",
       "    </tr>\n",
       "    <tr>\n",
       "      <th>8</th>\n",
       "      <td>0.221849</td>\n",
       "      <td>0.000000</td>\n",
       "      <td>0.000000</td>\n",
       "      <td>0.221849</td>\n",
       "    </tr>\n",
       "    <tr>\n",
       "      <th>9</th>\n",
       "      <td>0.443697</td>\n",
       "      <td>0.221849</td>\n",
       "      <td>0.154902</td>\n",
       "      <td>0.000000</td>\n",
       "    </tr>\n",
       "  </tbody>\n",
       "</table>\n",
       "</div>"
      ],
      "text/plain": [
       "        red      blue    dragon   pheonix\n",
       "0  0.221849  0.221849  0.154902  0.221849\n",
       "1  0.000000  0.000000  0.154902  0.000000\n",
       "2  0.000000  0.000000  0.154902  0.221849\n",
       "3  0.221849  0.443697  0.154902  0.443697\n",
       "4  0.221849  0.221849  0.000000  0.000000\n",
       "5  0.221849  0.221849  0.154902  0.221849\n",
       "6  0.000000  0.665546  0.000000  0.000000\n",
       "7  0.221849  0.000000  0.000000  0.221849\n",
       "8  0.221849  0.000000  0.000000  0.221849\n",
       "9  0.443697  0.221849  0.154902  0.000000"
      ]
     },
     "execution_count": 139,
     "metadata": {},
     "output_type": "execute_result"
    }
   ],
   "source": [
    "df"
   ]
  },
  {
   "cell_type": "code",
   "execution_count": 140,
   "id": "2f57597c-6f75-4c81-a7f4-e4ac66e47750",
   "metadata": {},
   "outputs": [],
   "source": [
    "query = [0,0,0,idf[3]]"
   ]
  },
  {
   "cell_type": "code",
   "execution_count": 141,
   "id": "8140b183-3d62-4b4f-a21d-1bab2645d857",
   "metadata": {},
   "outputs": [],
   "source": [
    "similarities = []"
   ]
  },
  {
   "cell_type": "code",
   "execution_count": 142,
   "id": "dc99ff0c-8896-4076-bf6f-bef3790d32ea",
   "metadata": {},
   "outputs": [],
   "source": [
    "similarities.append(cosine_similarity(list(tf_idf.values()), [query]))"
   ]
  },
  {
   "cell_type": "code",
   "execution_count": 143,
   "id": "5bef4276-c2d4-404c-8c50-0c1c7eaf5dd3",
   "metadata": {},
   "outputs": [],
   "source": [
    "similarities.append(euclidean_distances(list(tf_idf.values()), [query]))"
   ]
  },
  {
   "cell_type": "code",
   "execution_count": 144,
   "id": "101a0323-597e-4540-a722-57ee2c7428ed",
   "metadata": {},
   "outputs": [],
   "source": [
    "normalized_tf_idf = {}\n",
    "\n",
    "for dkey, vector in tf_idf.items():\n",
    "    magnitude = np.sqrt(np.sum(np.array(vector)**2))\n",
    "    normalized_vector = np.array(vector) / magnitude\n",
    "    normalized_tf_idf[dkey] = normalized_vector"
   ]
  },
  {
   "cell_type": "code",
   "execution_count": 145,
   "id": "00dd76f8-8bd0-4b75-93db-409262e76d35",
   "metadata": {},
   "outputs": [],
   "source": [
    "sim = []\n",
    "for dkey, vector in normalized_tf_idf.items():\n",
    "    sim.append([np.sqrt(np.sum((vector - query)**2))])\n",
    "similarities.append(np.array(sim))"
   ]
  },
  {
   "cell_type": "code",
   "execution_count": 146,
   "id": "56b267a4-3320-4b48-8e17-5b2493df7148",
   "metadata": {},
   "outputs": [
    {
     "data": {
      "text/plain": [
       "[array([[0.53547738],\n",
       "        [0.        ],\n",
       "        [0.81991225],\n",
       "        [0.64931204],\n",
       "        [0.        ],\n",
       "        [0.53547738],\n",
       "        [0.        ],\n",
       "        [0.70710678],\n",
       "        [0.70710678],\n",
       "        [0.        ]]),\n",
       " array([[0.34989763],\n",
       "        [0.27057621],\n",
       "        [0.15490196],\n",
       "        [0.56506267],\n",
       "        [0.38425331],\n",
       "        [0.34989763],\n",
       "        [0.70154734],\n",
       "        [0.22184875],\n",
       "        [0.22184875],\n",
       "        [0.56506267]]),\n",
       " array([[0.90090338],\n",
       "        [1.02431288],\n",
       "        [0.82790329],\n",
       "        [0.87242119],\n",
       "        [1.02431288],\n",
       "        [0.90090338],\n",
       "        [1.02431288],\n",
       "        [0.8575986 ],\n",
       "        [0.8575986 ],\n",
       "        [1.02431288]])]"
      ]
     },
     "execution_count": 146,
     "metadata": {},
     "output_type": "execute_result"
    }
   ],
   "source": [
    "similarities"
   ]
  }
 ],
 "metadata": {
  "kernelspec": {
   "display_name": "Python 3 (ipykernel)",
   "language": "python",
   "name": "python3"
  },
  "language_info": {
   "codemirror_mode": {
    "name": "ipython",
    "version": 3
   },
   "file_extension": ".py",
   "mimetype": "text/x-python",
   "name": "python",
   "nbconvert_exporter": "python",
   "pygments_lexer": "ipython3",
   "version": "3.12.4"
  }
 },
 "nbformat": 4,
 "nbformat_minor": 5
}
